{
 "cells": [
  {
   "cell_type": "code",
   "execution_count": 1,
   "metadata": {},
   "outputs": [
    {
     "name": "stdout",
     "output_type": "stream",
     "text": [
      "Hello Narendra\n"
     ]
    }
   ],
   "source": [
    "print(\"Hello Narendra\")"
   ]
  },
  {
   "cell_type": "markdown",
   "metadata": {},
   "source": [
    "Divisible By 7 Not Multiple By 5"
   ]
  },
  {
   "cell_type": "code",
   "execution_count": 3,
   "metadata": {},
   "outputs": [
    {
     "name": "stdout",
     "output_type": "stream",
     "text": [
      "2001,2004,2007,2013,2016,2019,2022,2028,2031,2034,2037,2043,2046,2049,2052,2058,2061,2064,2067,2073,2076,2079,2082,2088,2091,2094,2097,2103,2106,2109,2112,2118,2121,2124,2127,2133,2136,2139,2142,2148,2151,2154,2157,2163,2166,2169,2172,2178,2181,2184,2187,2193,2196,2199,2202,2208,2211,2214,2217,2223,2226,2229,2232,2238,2241,2244,2247,2253,2256,2259,2262,2268,2271,2274,2277,2283,2286,2289,2292,2298,2301,2304,2307,2313,2316,2319,2322,2328,2331,2334,2337,2343,2346,2349,2352,2358,2361,2364,2367,2373,2376,2379,2382,2388,2391,2394,2397,2403,2406,2409,2412,2418,2421,2424,2427,2433,2436,2439,2442,2448,2451,2454,2457,2463,2466,2469,2472,2478,2481,2484,2487,2493,2496,2499,2502,2508,2511,2514,2517,2523,2526,2529,2532,2538,2541,2544,2547,2553,2556,2559,2562,2568,2571,2574,2577,2583,2586,2589,2592,2598,2601,2604,2607,2613,2616,2619,2622,2628,2631,2634,2637,2643,2646,2649,2652,2658,2661,2664,2667,2673,2676,2679,2682,2688,2691,2694,2697,2703,2706,2709,2712,2718,2721,2724,2727,2733,2736,2739,2742,2748,2751,2754,2757,2763,2766,2769,2772,2778,2781,2784,2787,2793,2796,2799,2802,2808,2811,2814,2817,2823,2826,2829,2832,2838,2841,2844,2847,2853,2856,2859,2862,2868,2871,2874,2877,2883,2886,2889,2892,2898,2901,2904,2907,2913,2916,2919,2922,2928,2931,2934,2937,2943,2946,2949,2952,2958,2961,2964,2967,2973,2976,2979,2982,2988,2991,2994,2997,3003,3006,3009,3012,3018,3021,3024,3027,3033,3036,3039,3042,3048,3051,3054,3057,3063,3066,3069,3072,3078,3081,3084,3087,3093,3096,3099,3102,3108,3111,3114,3117,3123,3126,3129,3132,3138,3141,3144,3147,3153,3156,3159,3162,3168,3171,3174,3177,3183,3186,3189,3192,3198\n"
     ]
    }
   ],
   "source": [
    "l = list()\n",
    "for x in range(2000, 3200):\n",
    "     if (x%3==0) and (x%5!=0):\n",
    "            l.append(str(x))\n",
    "print(','.join(l))            "
   ]
  },
  {
   "cell_type": "markdown",
   "metadata": {},
   "source": [
    "Volume Of Sphere"
   ]
  },
  {
   "cell_type": "code",
   "execution_count": 8,
   "metadata": {},
   "outputs": [
    {
     "data": {
      "text/plain": [
       "904.7786842338603"
      ]
     },
     "execution_count": 8,
     "metadata": {},
     "output_type": "execute_result"
    }
   ],
   "source": [
    "import math\n",
    "pi= math.pi\n",
    "d=12\n",
    "r=d/2\n",
    "Volume=4/3 * pi * r**3\n",
    "Volume"
   ]
  },
  {
   "cell_type": "markdown",
   "metadata": {},
   "source": [
    "String In Reverse Order"
   ]
  },
  {
   "cell_type": "code",
   "execution_count": 9,
   "metadata": {},
   "outputs": [
    {
     "name": "stdout",
     "output_type": "stream",
     "text": [
      "enter first name: Narendra\n",
      "enter last name: Thambathka\n",
      "akhtabmahT ardneraN\n"
     ]
    }
   ],
   "source": [
    "name = input(str(\"enter first name: \")) + \" \" + input(str(\"enter last name: \"))\n",
    "print(name[::-1])"
   ]
  },
  {
   "cell_type": "markdown",
   "metadata": {},
   "source": [
    "Comma Seperated List"
   ]
  },
  {
   "cell_type": "code",
   "execution_count": 10,
   "metadata": {},
   "outputs": [
    {
     "name": "stdout",
     "output_type": "stream",
     "text": [
      "Enter the numbers seperated by comma: narendra,Thambathka\n"
     ]
    },
    {
     "data": {
      "text/plain": [
       "['narendra', 'Thambathka']"
      ]
     },
     "execution_count": 10,
     "metadata": {},
     "output_type": "execute_result"
    }
   ],
   "source": [
    "values = input(str(\"Enter the numbers seperated by comma: \")).split(',')\n",
    "values"
   ]
  },
  {
   "cell_type": "markdown",
   "metadata": {},
   "source": [
    "Pattern"
   ]
  },
  {
   "cell_type": "code",
   "execution_count": 14,
   "metadata": {},
   "outputs": [
    {
     "name": "stdout",
     "output_type": "stream",
     "text": [
      "\n",
      "* \n",
      "* * \n",
      "* * * \n",
      "* * * * \n",
      "* * * * * \n",
      "* * * * \n",
      "* * * \n",
      "* * \n",
      "* \n"
     ]
    }
   ],
   "source": [
    "count=5\n",
    "for i in range(count):\n",
    "    for j in range(i):\n",
    "        print ('* ', end=\"\")\n",
    "    print('')\n",
    "for i in range(count,0,-1):\n",
    "    for j in range(i):\n",
    "        print ('* ', end=\"\")\n",
    "    print('')    "
   ]
  },
  {
   "cell_type": "markdown",
   "metadata": {},
   "source": [
    "Reverse Given String"
   ]
  },
  {
   "cell_type": "code",
   "execution_count": 16,
   "metadata": {},
   "outputs": [
    {
     "name": "stdout",
     "output_type": "stream",
     "text": [
      "dliGdacA\n"
     ]
    }
   ],
   "source": [
    "input = \"AcadGild\"\n",
    "print(input[::-1])"
   ]
  },
  {
   "cell_type": "code",
   "execution_count": 19,
   "metadata": {},
   "outputs": [
    {
     "data": {
      "text/plain": [
       "'dliGdacA'"
      ]
     },
     "execution_count": 19,
     "metadata": {},
     "output_type": "execute_result"
    }
   ],
   "source": [
    "input = \"AcadGild\"\n",
    "reversedstring=''.join(reversed(input))\n",
    "reversedstring"
   ]
  },
  {
   "cell_type": "markdown",
   "metadata": {},
   "source": [
    "Program to print the given string in the format"
   ]
  },
  {
   "cell_type": "code",
   "execution_count": 41,
   "metadata": {},
   "outputs": [
    {
     "name": "stdout",
     "output_type": "stream",
     "text": [
      "WE, THE PEOPLE OF INDIA, \n",
      "\thaving solemnly resolved to constitute India into a \n",
      "\t\tSOVEREIGN, SOCIALIST, SECULAR, DEMOCRATIC REPUBLIC \n",
      "\t\tand to secure to all its citizens\n"
     ]
    }
   ],
   "source": [
    "print('''WE, THE PEOPLE OF INDIA, \\n\\thaving solemnly resolved to constitute India into a \\n\\t\\tSOVEREIGN, SOCIALIST, SECULAR, DEMOCRATIC REPUBLIC \\n\\t\\tand to secure to all its citizens''')"
   ]
  },
  {
   "cell_type": "code",
   "execution_count": null,
   "metadata": {},
   "outputs": [],
   "source": []
  }
 ],
 "metadata": {
  "kernelspec": {
   "display_name": "Python 3",
   "language": "python",
   "name": "python3"
  },
  "language_info": {
   "codemirror_mode": {
    "name": "ipython",
    "version": 3
   },
   "file_extension": ".py",
   "mimetype": "text/x-python",
   "name": "python",
   "nbconvert_exporter": "python",
   "pygments_lexer": "ipython3",
   "version": "3.6.4"
  }
 },
 "nbformat": 4,
 "nbformat_minor": 2
}
